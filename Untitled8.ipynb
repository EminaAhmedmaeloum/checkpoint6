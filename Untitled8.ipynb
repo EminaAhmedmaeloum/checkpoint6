{
 "cells": [
  {
   "cell_type": "code",
   "execution_count": null,
   "metadata": {},
   "outputs": [],
   "source": [
    "class Subset:\n",
    "    def f1(self, s1):\n",
    "        return self.f2([], sorted(s1))\n",
    "\n",
    "    def f2(self, curr, s1):\n",
    "        if s1:\n",
    "            return self.f2(curr, s1[1:]) + self.f2(curr + [s1[0]], s1[1:])\n",
    "        return [curr]\n",
    "a = []\n",
    "n = int(input(\"entrer le nmbr des élements de liste: \"))\n",
    "for i in range(0, n):\n",
    "    b = int(input(\"veuillez enterer l'element: \"))\n",
    "    a.append(b)\n",
    "print(\"Output: \")\n",
    "print(Subset().f1(a))"
   ]
  },
  {
   "cell_type": "code",
   "execution_count": 13,
   "metadata": {},
   "outputs": [
    {
     "name": "stdout",
     "output_type": "stream",
     "text": [
      "[[-10, 2, 8], [-7, -3, 10]]\n"
     ]
    }
   ],
   "source": [
    "class py_solution:\n",
    " def threeSum(elmnt, nmbr):\n",
    "        nmbr, result, i = sorted(nmbr), [], 0\n",
    "        while i < len(nmbr) - 2:\n",
    "            j, k = i + 1, len(nmbr) - 1\n",
    "            while j < k:\n",
    "                if nmbr[i] + nmbr[j] + nmbr[k] < 0:\n",
    "                    j += 1\n",
    "                elif nmbr[i] + nmbr[j] + nmbr[k] > 0:\n",
    "                    k -= 1\n",
    "                else:\n",
    "                    result.append([nmbr[i], nmbr[j], nmbr[k]])\n",
    "                    j, k = j + 1, k - 1\n",
    "                    while j < k and nmbr[j] == nmbr[j - 1]:\n",
    "                        j += 1\n",
    "                    while j < k and nmbr[k] == nmbr[k + 1]:\n",
    "                        k -= 1\n",
    "            i += 1\n",
    "            while i < len(nmbr) - 2 and nmbr[i] == nmbr[i - 1]:\n",
    "                i += 1\n",
    "        return result\n",
    "\n",
    "print(py_solution().threeSum([-25, -10, -7, -3, 2, 4, 8, 10]))\n"
   ]
  },
  {
   "cell_type": "code",
   "execution_count": null,
   "metadata": {},
   "outputs": [],
   "source": [
    "class py_solution:  \n",
    "   def twoSum(self, nums, target):  \n",
    "        lookup = {}  \n",
    "        for i, num in enumerate(nums):  \n",
    "            if target - num in lookup:  \n",
    "                return (lookup[target - num] + 1, i + 1)  \n",
    "            lookup[num] = i  \n",
    "print(\"i1=%d, i2=%d\" % py_solution().twoSum((10,20,10,40,50,60,70),50))"
   ]
  },
  {
   "cell_type": "code",
   "execution_count": null,
   "metadata": {},
   "outputs": [],
   "source": []
  }
 ],
 "metadata": {
  "kernelspec": {
   "display_name": "Python 3",
   "language": "python",
   "name": "python3"
  },
  "language_info": {
   "codemirror_mode": {
    "name": "ipython",
    "version": 3
   },
   "file_extension": ".py",
   "mimetype": "text/x-python",
   "name": "python",
   "nbconvert_exporter": "python",
   "pygments_lexer": "ipython3",
   "version": "3.8.5"
  }
 },
 "nbformat": 4,
 "nbformat_minor": 4
}
